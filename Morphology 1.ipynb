{
 "cells": [
  {
   "cell_type": "markdown",
   "metadata": {},
   "source": [
    "# Морфология 1\n",
    "\n",
    "Здесь мы познакомимся с двумя мофрологическими анализоторами: pymorphy и mystem."
   ]
  },
  {
   "cell_type": "code",
   "execution_count": 1,
   "metadata": {},
   "outputs": [],
   "source": [
    "sample_text = u'Гло́кая ку́здра ште́ко будлану́ла бо́кра и курдя́чит бокрёнка'"
   ]
  },
  {
   "cell_type": "markdown",
   "metadata": {},
   "source": [
    "### 1. MyStem"
   ]
  },
  {
   "cell_type": "raw",
   "metadata": {},
   "source": [
    "# поставим модуль если он еще не стоит\n",
    "!pip install pymystem3"
   ]
  },
  {
   "cell_type": "code",
   "execution_count": 2,
   "metadata": {},
   "outputs": [],
   "source": [
    "from pymystem3 import Mystem\n",
    "# инициализация собственно инициализатора\n",
    "mystem_analyzer = Mystem(entire_input=False, disambiguation=False)\n",
    "# entire_output - сохранение всего входа (напр. пробелов)\n",
    "# disambiguation - снятие омонимии"
   ]
  },
  {
   "cell_type": "markdown",
   "metadata": {},
   "source": [
    "Две основные функции Mystem:\n",
    "- Проводить мофрологический анализ\n",
    "- Приводить начальные формы для слов в тексте"
   ]
  },
  {
   "cell_type": "code",
   "execution_count": 3,
   "metadata": {},
   "outputs": [],
   "source": [
    "mystem_result = mystem_analyzer.analyze(sample_text)\n",
    "mystem_lemmas = mystem_analyzer.lemmatize(sample_text)"
   ]
  },
  {
   "cell_type": "code",
   "execution_count": 4,
   "metadata": {},
   "outputs": [
    {
     "name": "stdout",
     "output_type": "stream",
     "text": [
      "Гло́кая ку́здра ште́ко будлану́ла бо́кра и курдя́чит бокрёнка\n",
      "глокая куздра штеко будлануть бокра и курдячить бокренка "
     ]
    }
   ],
   "source": [
    "# Посмотрим, что у нас получилось при лемматизации \n",
    "# (да, чтобы вывести юникодные строки на втором питоне приходится так извращаться)\n",
    "print(sample_text)\n",
    "for word in mystem_lemmas:    \n",
    "    print(word, end=' ')"
   ]
  },
  {
   "cell_type": "code",
   "execution_count": 5,
   "metadata": {},
   "outputs": [
    {
     "name": "stdout",
     "output_type": "stream",
     "text": [
      "Гло́кая\n",
      "\t {'lex': 'глокая', 'wt': 0.3605448292, 'qual': 'bastard', 'gr': 'S,ед,жен,неод=им'}\n",
      "\t {'lex': 'глокать', 'wt': 0.3605448292, 'qual': 'bastard', 'gr': 'V,несов=непрош,деепр,пе'}\n",
      "\t {'lex': 'глокая', 'wt': 0.1038369108, 'qual': 'bastard', 'gr': 'S,жен,од=им,ед'}\n",
      "\t {'lex': 'глокай', 'wt': 0.09304979929, 'qual': 'bastard', 'gr': 'S,муж,неод=род,ед'}\n",
      "\t {'lex': 'глокать', 'wt': 0.03306575604, 'qual': 'bastard', 'gr': 'V,несов,нп=непрош,деепр'}\n",
      "\t {'lex': 'глокий', 'wt': 0.01624943977, 'qual': 'bastard', 'gr': 'A=им,ед,полн,жен'}\n",
      "\t {'lex': 'глокать', 'wt': 0.01512198266, 'qual': 'bastard', 'gr': 'V,несов,пе=непрош,деепр'}\n",
      "\t {'lex': 'глокий', 'wt': 0.01077529943, 'qual': 'bastard', 'gr': 'A=им,ед,полн,жен'}\n",
      "\t {'lex': 'глокать', 'wt': 0.006811153662, 'qual': 'bastard', 'gr': 'V,нп=непрош,деепр,несов'}\n",
      "ку́здра\n",
      "\t {'lex': 'куздра', 'wt': 0.6292693823, 'qual': 'bastard', 'gr': 'S,ед,жен,неод=им'}\n",
      "\t {'lex': 'куздра', 'wt': 0.3707306177, 'qual': 'bastard', 'gr': 'S,гео,жен,неод=им,ед'}\n",
      "ште́ко\n",
      "\t {'lex': 'штеко', 'wt': 0.3217673592, 'qual': 'bastard', 'gr': 'S,имя,мж,од=(пр,мн|пр,ед|вин,мн|вин,ед|дат,мн|дат,ед|род,мн|род,ед|твор,мн|твор,ед|им,мн|им,ед)'}\n",
      "\t {'lex': 'штеко', 'wt': 0.2574119755, 'qual': 'bastard', 'gr': 'ADV='}\n",
      "\t {'lex': 'штеко', 'wt': 0.1608460987, 'qual': 'bastard', 'gr': 'S,сред,неод=(пр,мн|пр,ед|вин,мн|вин,ед|дат,мн|дат,ед|род,мн|род,ед|твор,мн|твор,ед|им,мн|им,ед)'}\n",
      "\t {'lex': 'штеко', 'wt': 0.08253134141, 'qual': 'bastard', 'gr': 'S,сред,неод=(вин,ед|им,ед)'}\n",
      "\t {'lex': 'штеко', 'wt': 0.07936870775, 'qual': 'bastard', 'gr': 'S,ед,сред,неод=(вин|им)'}\n",
      "\t {'lex': 'штеко', 'wt': 0.03215211714, 'qual': 'bastard', 'gr': 'S,имя,муж,од=(пр,мн|пр,ед|вин,мн|вин,ед|дат,мн|дат,ед|род,мн|род,ед|твор,мн|твор,ед|им,мн|им,ед)'}\n",
      "\t {'lex': 'штеко', 'wt': 0.03210293606, 'qual': 'bastard', 'gr': 'S,фам,мж,од=(пр,мн|пр,ед|вин,мн|вин,ед|дат,мн|дат,ед|род,мн|род,ед|твор,мн|твор,ед|им,мн|им,ед)'}\n",
      "\t {'lex': 'штеко', 'wt': 0.03208609722, 'qual': 'bastard', 'gr': 'S,гео,ед,муж,неод=(пр|вин|дат|род|твор|им)'}\n",
      "\t {'lex': 'штекий', 'wt': 0.001720046713, 'qual': 'bastard', 'gr': 'A=ед,кр,сред'}\n",
      "\t {'lex': 'штекий', 'wt': 1.332032949e-05, 'qual': 'bastard', 'gr': 'A=ед,кр,сред'}\n",
      "\t {'lex': 'штеко', 'wt': 0, 'qual': 'bastard', 'gr': 'S,имя,ед,муж,од=им'}\n",
      "будлану́ла\n",
      "\t {'lex': 'будлануть', 'wt': 0.2884335962, 'qual': 'bastard', 'gr': 'V,обсц,сов=прош,ед,изъяв,жен'}\n",
      "\t {'lex': 'будлануть', 'wt': 0.2884335962, 'qual': 'bastard', 'gr': 'V,разг,обсц,сов=прош,ед,изъяв,жен'}\n",
      "\t {'lex': 'будланула', 'wt': 0.09985378522, 'qual': 'bastard', 'gr': 'S,имя,жен,од=им,ед'}\n",
      "\t {'lex': 'будлануть', 'wt': 0.05695153583, 'qual': 'bastard', 'gr': 'V,сов,пе=прош,ед,изъяв,жен'}\n",
      "\t {'lex': 'будлануть', 'wt': 0.05212627477, 'qual': 'bastard', 'gr': 'V,сов,пе=прош,ед,изъяв,жен'}\n",
      "\t {'lex': 'будлануть', 'wt': 0.04770114448, 'qual': 'bastard', 'gr': 'V,сов,нп=прош,ед,изъяв,жен'}\n",
      "\t {'lex': 'будлануть', 'wt': 0.04683850382, 'qual': 'bastard', 'gr': 'V,сов,пе=прош,ед,изъяв,жен'}\n",
      "\t {'lex': 'будланула', 'wt': 0.04299689435, 'qual': 'bastard', 'gr': 'S,жен,неод=им,ед'}\n",
      "\t {'lex': 'будланул', 'wt': 0.03753661836, 'qual': 'bastard', 'gr': 'S,муж,од=(вин,ед|род,ед)'}\n",
      "\t {'lex': 'будлануть', 'wt': 0.02766311711, 'qual': 'bastard', 'gr': 'V,сов,нп=прош,ед,изъяв,жен'}\n",
      "\t {'lex': 'будланывать', 'wt': 0.01146493374, 'qual': 'bastard', 'gr': 'V,пе=прош,ед,изъяв,жен,сов'}\n",
      "бо́кра\n",
      "\t {'lex': 'бокра', 'wt': 0.8898982327, 'qual': 'bastard', 'gr': 'S,ед,жен,неод=им'}\n",
      "\t {'lex': 'бокрый', 'wt': 0.1101017673, 'qual': 'bastard', 'gr': 'A=ед,кр,жен'}\n",
      "и\n",
      "\t {'lex': 'и', 'wt': 0.9999770357, 'gr': 'CONJ='}\n",
      "\t {'lex': 'и', 'wt': 1.020511514e-05, 'gr': 'INTJ='}\n",
      "\t {'lex': 'и', 'wt': 6.379604644e-06, 'gr': 'S,сокр=(пр,мн|пр,ед|вин,мн|вин,ед|дат,мн|дат,ед|род,мн|род,ед|твор,мн|твор,ед|им,мн|им,ед)'}\n",
      "\t {'lex': 'и', 'wt': 6.37957056e-06, 'gr': 'PART='}\n",
      "курдя́чит\n",
      "\t {'lex': 'курдячить', 'wt': 0.5, 'qual': 'bastard', 'gr': 'V,обсц,сов,пе=непрош,ед,изъяв,3-л'}\n",
      "\t {'lex': 'курдячить', 'wt': 0.5, 'qual': 'bastard', 'gr': 'V,обсц,несов,пе=непрош,ед,изъяв,3-л'}\n",
      "бокрёнка\n",
      "\t {'lex': 'бокренка', 'wt': 0.2200160995, 'qual': 'bastard', 'gr': 'S,имя,жен,од=им,ед'}\n",
      "\t {'lex': 'бокренок', 'wt': 0.165166425, 'qual': 'bastard', 'gr': 'S,муж,неод=род,ед'}\n",
      "\t {'lex': 'бокренка', 'wt': 0.1392542771, 'qual': 'bastard', 'gr': 'S,жен,од=им,ед'}\n",
      "\t {'lex': 'бокренка', 'wt': 0.1240808471, 'qual': 'bastard', 'gr': 'S,жен,неод=им,ед'}\n",
      "\t {'lex': 'бокренок', 'wt': 0.1205990358, 'qual': 'bastard', 'gr': 'S,муж,неод=род,ед'}\n",
      "\t {'lex': 'бокренок', 'wt': 0.09129371203, 'qual': 'bastard', 'gr': 'S,муж,од=(вин,ед|род,ед)'}\n",
      "\t {'lex': 'бокренка', 'wt': 0.07074299558, 'qual': 'bastard', 'gr': 'S,имя,мж,од=им,ед'}\n",
      "\t {'lex': 'бокренк', 'wt': 0.06884660791, 'qual': 'bastard', 'gr': 'S,имя,муж,од=(вин,ед|род,ед)'}\n"
     ]
    }
   ],
   "source": [
    "# Ну и результат морфологического анализа\n",
    "# выведены всевозможные разборы, чтобы оценить масшатбы\n",
    "for word in mystem_result:\n",
    "    print(word['text'])\n",
    "    for res in word['analysis']:\n",
    "        print('\\t', repr(res))"
   ]
  },
  {
   "cell_type": "markdown",
   "metadata": {},
   "source": [
    "Создадим теперь анализатор со снятием омонимии"
   ]
  },
  {
   "cell_type": "code",
   "execution_count": 6,
   "metadata": {},
   "outputs": [],
   "source": [
    "mystem_analyzer2 = Mystem(entire_input=False, disambiguation=True)"
   ]
  },
  {
   "cell_type": "code",
   "execution_count": 7,
   "metadata": {},
   "outputs": [],
   "source": [
    "mystem_result2 = mystem_analyzer2.analyze(sample_text)\n",
    "mystem_lemmas2 = mystem_analyzer2.lemmatize(sample_text)"
   ]
  },
  {
   "cell_type": "code",
   "execution_count": 8,
   "metadata": {},
   "outputs": [
    {
     "name": "stdout",
     "output_type": "stream",
     "text": [
      "Гло́кая ку́здра ште́ко будлану́ла бо́кра и курдя́чит бокрёнка\n",
      "глокая глокай\n",
      "куздра куздра\n",
      "штеко штеко\n",
      "будлануть будланул\n",
      "бокра бокра\n",
      "и и\n",
      "курдячить курдячить\n",
      "бокренка бокренок\n"
     ]
    }
   ],
   "source": [
    "print(sample_text)\n",
    "for (word, word2) in zip(mystem_lemmas, mystem_lemmas2):    \n",
    "    print(word, word2)"
   ]
  },
  {
   "cell_type": "code",
   "execution_count": 9,
   "metadata": {},
   "outputs": [
    {
     "name": "stdout",
     "output_type": "stream",
     "text": [
      "Гло́кая\n",
      "\t {'lex': 'глокай', 'wt': 0.09304979929, 'qual': 'bastard', 'gr': 'S,муж,неод=род,ед'}\n",
      "ку́здра\n",
      "\t {'lex': 'куздра', 'wt': 0.6292693823, 'qual': 'bastard', 'gr': 'S,ед,жен,неод=им'}\n",
      "ште́ко\n",
      "\t {'lex': 'штеко', 'wt': 0.2574119755, 'qual': 'bastard', 'gr': 'ADV='}\n",
      "будлану́ла\n",
      "\t {'lex': 'будланул', 'wt': 0.03753661836, 'qual': 'bastard', 'gr': 'S,муж,од=(вин,ед|род,ед)'}\n",
      "бо́кра\n",
      "\t {'lex': 'бокра', 'wt': 0.8898982327, 'qual': 'bastard', 'gr': 'S,ед,жен,неод=им'}\n",
      "и\n",
      "\t {'lex': 'и', 'wt': 0.9999770357, 'gr': 'CONJ='}\n",
      "курдя́чит\n",
      "\t {'lex': 'курдячить', 'wt': 0.5, 'qual': 'bastard', 'gr': 'V,обсц,сов,пе=непрош,ед,изъяв,3-л'}\n",
      "бокрёнка\n",
      "\t {'lex': 'бокренок', 'wt': 0.165166425, 'qual': 'bastard', 'gr': 'S,муж,неод=род,ед'}\n"
     ]
    }
   ],
   "source": [
    "for word in mystem_result2:\n",
    "    print(word['text'])\n",
    "    for res in word['analysis']:\n",
    "        print('\\t', repr(res))"
   ]
  },
  {
   "cell_type": "markdown",
   "metadata": {},
   "source": [
    "Проблемы MyStem"
   ]
  },
  {
   "cell_type": "code",
   "execution_count": 10,
   "metadata": {},
   "outputs": [
    {
     "name": "stdout",
     "output_type": "stream",
     "text": [
      "александра иванов пойти в кино  \n",
      "александра иванов видеть в кино с кто-то  \n",
      "воробей сегодня вставать не с тот нога  \n"
     ]
    }
   ],
   "source": [
    "disambiguations = [ 'Александра Иванова пошла в кино',\n",
    "                    'Александра Иванова видели в кино с кем-то',\n",
    "                    'Воробьев сегодня встал не с той ноги']\n",
    "\n",
    "disambiguation_results = []\n",
    "for dis in disambiguations:\n",
    "    disambiguation_results.append(mystem_analyzer2.lemmatize(dis))\n",
    "    \n",
    "for res in disambiguation_results:\n",
    "    for word in res:\n",
    "        print(word, end=' ')\n",
    "    print(' ')"
   ]
  },
  {
   "cell_type": "markdown",
   "metadata": {},
   "source": [
    "#### Задание\n",
    "Для того, чтобы наиграться с MyStem, предлагается написать методы, которые:\n",
    "- находит топ n лексем\n",
    "- находит слова с наибольшей и наименьшей энтропией"
   ]
  },
  {
   "cell_type": "markdown",
   "metadata": {},
   "source": [
    "Энтропия\n",
    "$$\n",
    "H(x) = - \\sum\\limits_{i} p_i \\log_2{p_i}\n",
    "$$"
   ]
  },
  {
   "cell_type": "code",
   "execution_count": 13,
   "metadata": {},
   "outputs": [],
   "source": [
    "from collections import Counter\n",
    "from tqdm import tqdm_notebook\n",
    "import math\n",
    "\n",
    "def get_top_words(text, n=None):\n",
    "    '''\n",
    "    :param text: input text in russian\n",
    "    :param n: number of most common words\n",
    "    :return: list of most common lexemas\n",
    "    '''\n",
    "    counter = Counter(mystem_analyzer2.lemmatize(text))        \n",
    "    return [word for word, count in counter.most_common(n)]\n",
    "        \n",
    "    \n",
    "def get_entropy(text):\n",
    "    \"\"\"\n",
    "    :param text: input text in russian\n",
    "    :return: list of pairs (word, entropy)\n",
    "    \"\"\"\n",
    "    output = []\n",
    "    \n",
    "    for result in mystem_analyzer2.analyze(text):\n",
    "        analyze = result['analysis']\n",
    "        word = result['text']\n",
    "        entropy = -1*sum([lex['wt']*math.log2(lex['wt']) for lex in analyze])\n",
    "        output.append((word, entropy))\n",
    "        \n",
    "    return output\n",
    "\n",
    "def get_max_entropy_words(text, n):\n",
    "    '''\n",
    "    :param text: input text in russian\n",
    "    :param n: number of most words with maximun entropy\n",
    "    :return: list of words with entropies\n",
    "    '''\n",
    "    words_entropy = get_entropy(text)\n",
    "    return sorted(words_entropy, key=lambda x: x[1], reverse=True)[:n]\n",
    "\n",
    "def get_min_entropy_words(text, n):\n",
    "    '''\n",
    "    :param text: input text in russian\n",
    "    :param n: number of most words with minimum entropy\n",
    "    :return: list of words with entropies\n",
    "    '''\n",
    "    words_entropy = get_entropy(text)\n",
    "    \n",
    "    return sorted(words_entropy, key=lambda x: x[1], reverse=False)[:n]"
   ]
  },
  {
   "cell_type": "code",
   "execution_count": 14,
   "metadata": {},
   "outputs": [
    {
     "data": {
      "text/plain": [
       "([('ште́ко', 0.5039737586652117),\n",
       "  ('курдя́чит', 0.5),\n",
       "  ('бокрёнка', 0.4291036355252055),\n",
       "  ('ку́здра', 0.42050948242931024),\n",
       "  ('Гло́кая', 0.31877494813522017),\n",
       "  ('будлану́ла', 0.1777568147811354),\n",
       "  ('бо́кра', 0.14975895672485304)],\n",
       " [('и', 3.3130101315469967e-05),\n",
       "  ('бо́кра', 0.14975895672485304),\n",
       "  ('будлану́ла', 0.1777568147811354),\n",
       "  ('Гло́кая', 0.31877494813522017),\n",
       "  ('ку́здра', 0.42050948242931024),\n",
       "  ('бокрёнка', 0.4291036355252055),\n",
       "  ('курдя́чит', 0.5)])"
      ]
     },
     "execution_count": 14,
     "metadata": {},
     "output_type": "execute_result"
    }
   ],
   "source": [
    "get_max_entropy_words(sample_text, -1), get_min_entropy_words(sample_text, -1)"
   ]
  },
  {
   "cell_type": "markdown",
   "metadata": {},
   "source": [
    "### 2. Pymorphy"
   ]
  },
  {
   "cell_type": "raw",
   "metadata": {},
   "source": [
    "# установка модуля и словарей\n",
    "!pip install pymorphy2\n",
    "!pip install -U pymorphy2-dicts-ru"
   ]
  },
  {
   "cell_type": "code",
   "execution_count": 15,
   "metadata": {},
   "outputs": [],
   "source": [
    "# создание анализатора\n",
    "import pymorphy2\n",
    "morph = pymorphy2.MorphAnalyzer()"
   ]
  },
  {
   "cell_type": "code",
   "execution_count": 16,
   "metadata": {},
   "outputs": [],
   "source": [
    "# sample_text = u'Глокая куздра штеко будланула бокра и кудрячит бокренка'\n",
    "# в отличие от mystem работает пословно\n",
    "pymorphy_results = map(lambda x: morph.parse(x), sample_text.split())"
   ]
  },
  {
   "cell_type": "code",
   "execution_count": 17,
   "metadata": {},
   "outputs": [
    {
     "name": "stdout",
     "output_type": "stream",
     "text": [
      "гло́кая\n",
      "\t гло́кай NOUN,anim,masc,Name sing,gent 0.3333423559982676\n",
      "\t гло́кай NOUN,anim,masc,Name sing,accs 0.3333423559982676\n",
      "\t гло́кий ADJF femn,sing,nomn 0.3083315288003464\n",
      "\t гло́кий NOUN,anim,femn,Sgtm,Surn sing,nomn 0.021410783889129488\n",
      "\t гло́кать GRND,impf,intr pres 0.0035729753139887395\n",
      "ку́здра\n",
      "\t ку́здра NOUN,inan,femn,Sgtm,Fixd,Abbr,Geox sing,nomn 0.15000000000000002\n",
      "\t ку́здра NOUN,inan,femn,Sgtm,Fixd,Abbr,Geox sing,gent 0.15000000000000002\n",
      "\t ку́здра NOUN,inan,femn,Sgtm,Fixd,Abbr,Geox sing,datv 0.15000000000000002\n",
      "\t ку́здра NOUN,inan,femn,Sgtm,Fixd,Abbr,Geox sing,accs 0.15000000000000002\n",
      "\t ку́здра NOUN,inan,femn,Sgtm,Fixd,Abbr,Geox sing,ablt 0.15000000000000002\n",
      "\t ку́здра NOUN,inan,femn,Sgtm,Fixd,Abbr,Geox sing,loct 0.15000000000000002\n",
      "\t ку́здра NOUN,inan,femn,Sgtm sing,nomn 0.05\n",
      "\t ку́здра NOUN,inan,femn,Sgtm,Geox sing,nomn 0.05\n",
      "ште́ко\n",
      "\t ште́ко NOUN,anim,GNdr,Ms-f,Fixd,Surn sing,nomn 0.07995028997514501\n",
      "\t ште́ко NOUN,anim,GNdr,Ms-f,Fixd,Surn sing,gent 0.07995028997514501\n",
      "\t ште́ко NOUN,anim,GNdr,Ms-f,Fixd,Surn sing,datv 0.07995028997514501\n",
      "\t ште́ко NOUN,anim,GNdr,Ms-f,Fixd,Surn sing,accs 0.07995028997514501\n",
      "\t ште́ко NOUN,anim,GNdr,Ms-f,Fixd,Surn sing,ablt 0.07995028997514501\n",
      "\t ште́ко NOUN,anim,GNdr,Ms-f,Fixd,Surn sing,loct 0.07995028997514501\n",
      "\t ште́ко NOUN,anim,GNdr,Ms-f,Fixd,Surn plur,nomn 0.07995028997514501\n",
      "\t ште́ко NOUN,anim,GNdr,Ms-f,Fixd,Surn plur,gent 0.07995028997514501\n",
      "\t ште́ко NOUN,anim,GNdr,Ms-f,Fixd,Surn plur,datv 0.07995028997514501\n",
      "\t ште́ко NOUN,anim,GNdr,Ms-f,Fixd,Surn plur,accs 0.07995028997514501\n",
      "\t ште́ко NOUN,anim,GNdr,Ms-f,Fixd,Surn plur,ablt 0.07995028997514501\n",
      "\t ште́ко NOUN,anim,GNdr,Ms-f,Fixd,Surn plur,loct 0.07995028997514501\n",
      "\t ште́ко ADVB 0.019469759734879875\n",
      "\t ште́кий ADJS neut,sing 0.007870753935376971\n",
      "\t ште́ко ADJF,Fixd,Subx,Qual masc,sing,nomn 0.0005523336095001382\n",
      "\t ште́ко ADJF,Fixd,Subx,Qual masc,sing,gent 0.0005523336095001382\n",
      "\t ште́ко ADJF,Fixd,Subx,Qual masc,sing,datv 0.0005523336095001382\n",
      "\t ште́ко ADJF,Fixd,Subx,Qual masc,sing,accs 0.0005523336095001382\n",
      "\t ште́ко ADJF,Fixd,Subx,Qual masc,sing,ablt 0.0005523336095001382\n",
      "\t ште́ко ADJF,Fixd,Subx,Qual masc,sing,loct 0.0005523336095001382\n",
      "\t ште́ко ADJF,Fixd,Subx,Qual femn,sing,nomn 0.0005523336095001382\n",
      "\t ште́ко ADJF,Fixd,Subx,Qual femn,sing,gent 0.0005523336095001382\n",
      "\t ште́ко ADJF,Fixd,Subx,Qual femn,sing,datv 0.0005523336095001382\n",
      "\t ште́ко ADJF,Fixd,Subx,Qual femn,sing,accs 0.0005523336095001382\n",
      "\t ште́ко ADJF,Fixd,Subx,Qual femn,sing,ablt 0.0005523336095001382\n",
      "\t ште́ко ADJF,Fixd,Subx,Qual femn,sing,loct 0.0005523336095001382\n",
      "\t ште́ко ADJF,Fixd,Subx,Qual neut,sing,nomn 0.0005523336095001382\n",
      "\t ште́ко ADJF,Fixd,Subx,Qual neut,sing,gent 0.0005523336095001382\n",
      "\t ште́ко ADJF,Fixd,Subx,Qual neut,sing,datv 0.0005523336095001382\n",
      "\t ште́ко ADJF,Fixd,Subx,Qual neut,sing,accs 0.0005523336095001382\n",
      "\t ште́ко ADJF,Fixd,Subx,Qual neut,sing,ablt 0.0005523336095001382\n",
      "\t ште́ко ADJF,Fixd,Subx,Qual neut,sing,loct 0.0005523336095001382\n",
      "\t ште́ко ADJF,Fixd,Subx,Qual plur,nomn 0.0005523336095001382\n",
      "\t ште́ко ADJF,Fixd,Subx,Qual plur,gent 0.0005523336095001382\n",
      "\t ште́ко ADJF,Fixd,Subx,Qual plur,datv 0.0005523336095001382\n",
      "\t ште́ко ADJF,Fixd,Subx,Qual plur,accs 0.0005523336095001382\n",
      "\t ште́ко ADJF,Fixd,Subx,Qual plur,ablt 0.0005523336095001382\n",
      "\t ште́ко ADJF,Fixd,Subx,Qual plur,loct 0.0005523336095001382\n",
      "будлану́ла\n",
      "\t будлану́ть VERB,impf,tran femn,sing,past,indc 0.8499077645480463\n",
      "\t будлану́л NOUN,inan,masc sing,gent 0.11235955056179775\n",
      "\t будлану́лый ADJS femn,sing 0.03622337749454972\n",
      "\t будлану́ла ADVB 0.0015093073956062384\n",
      "бо́кра\n",
      "\t бо́кр NOUN,inan,masc sing,gent 0.4444444444444445\n",
      "\t бо́кра NOUN,inan,femn sing,nomn 0.4444444444444445\n",
      "\t бо́крый ADJS,Qual femn,sing 0.11111111111111112\n",
      "и\n",
      "\t и CONJ 0.997671\n",
      "\t и INTJ 0.000436\n",
      "\t и PRCL 0.000145\n",
      "\t исполняющий NOUN,anim,masc,Fixd,Abbr sing,nomn 0.000145\n",
      "\t исполняющий NOUN,anim,masc,Fixd,Abbr sing,gent 0.000145\n",
      "\t исполняющий NOUN,anim,masc,Fixd,Abbr sing,datv 0.000145\n",
      "\t исполняющий NOUN,anim,masc,Fixd,Abbr sing,accs 0.000145\n",
      "\t исполняющий NOUN,anim,masc,Fixd,Abbr sing,ablt 0.000145\n",
      "\t исполняющий NOUN,anim,masc,Fixd,Abbr sing,loct 0.000145\n",
      "\t исполняющий NOUN,anim,masc,Fixd,Abbr plur,nomn 0.000145\n",
      "\t исполняющий NOUN,anim,masc,Fixd,Abbr plur,gent 0.000145\n",
      "\t исполняющий NOUN,anim,masc,Fixd,Abbr plur,datv 0.000145\n",
      "\t исполняющий NOUN,anim,masc,Fixd,Abbr plur,accs 0.000145\n",
      "\t исполняющий NOUN,anim,masc,Fixd,Abbr plur,ablt 0.000145\n",
      "\t исполняющий NOUN,anim,masc,Fixd,Abbr plur,loct 0.000145\n",
      "курдя́чит\n",
      "\t курдя́чить VERB,perf,tran sing,3per,futr,indc 0.9411764705882354\n",
      "\t курдя́читый ADJS,Qual masc,sing 0.007352941176470589\n",
      "\t курдя́чит NOUN,anim,femn,Sgtm,Fixd,Name sing,nomn 0.007352941176470589\n",
      "\t курдя́чит NOUN,anim,femn,Sgtm,Fixd,Name sing,gent 0.007352941176470589\n",
      "\t курдя́чит NOUN,anim,femn,Sgtm,Fixd,Name sing,datv 0.007352941176470589\n",
      "\t курдя́чит NOUN,anim,femn,Sgtm,Fixd,Name sing,accs 0.007352941176470589\n",
      "\t курдя́чит NOUN,anim,femn,Sgtm,Fixd,Name sing,ablt 0.007352941176470589\n",
      "\t курдя́чит NOUN,anim,femn,Sgtm,Fixd,Name sing,loct 0.007352941176470589\n",
      "\t курдя́читый ADJS masc,sing 0.007352941176470589\n",
      "бокрёнка\n",
      "\t бокрёнок NOUN,anim,masc sing,gent 0.49999999999999994\n",
      "\t бокрёнок NOUN,anim,masc sing,accs 0.49999999999999994\n"
     ]
    }
   ],
   "source": [
    "# собираем результаты и выводим \n",
    "for word_result in pymorphy_results:\n",
    "    print(word_result[0].word)\n",
    "    for res in word_result:\n",
    "        print('\\t', res.normal_form, res.tag, res.score)"
   ]
  },
  {
   "cell_type": "markdown",
   "metadata": {},
   "source": [
    "В отличие от mystem можно получать лексему и склонять слова"
   ]
  },
  {
   "cell_type": "code",
   "execution_count": 18,
   "metadata": {},
   "outputs": [
    {
     "name": "stdout",
     "output_type": "stream",
     "text": [
      "градус NOUN,inan,masc sing,nomn\n",
      "градуса NOUN,inan,masc sing,gent\n",
      "градусу NOUN,inan,masc sing,datv\n",
      "градус NOUN,inan,masc sing,accs\n",
      "градусом NOUN,inan,masc sing,ablt\n",
      "градусе NOUN,inan,masc sing,loct\n",
      "градусы NOUN,inan,masc plur,nomn\n",
      "градусов NOUN,inan,masc plur,gent\n",
      "градусам NOUN,inan,masc plur,datv\n",
      "градусы NOUN,inan,masc plur,accs\n",
      "градусами NOUN,inan,masc plur,ablt\n",
      "градусах NOUN,inan,masc plur,loct\n"
     ]
    }
   ],
   "source": [
    "bokr = morph.parse(u'градус')[0]\n",
    "for form in bokr.lexeme:\n",
    "    print(form.word, form.tag)"
   ]
  },
  {
   "cell_type": "code",
   "execution_count": 19,
   "metadata": {},
   "outputs": [
    {
     "name": "stdout",
     "output_type": "stream",
     "text": [
      "градусе\n",
      "градус\n",
      "градуса\n",
      "градусов\n"
     ]
    }
   ],
   "source": [
    "print(bokr.inflect({'loct'}).word,)\n",
    "print(bokr.make_agree_with_number(1).word,)\n",
    "print(bokr.make_agree_with_number(2).word,)\n",
    "print(bokr.make_agree_with_number(5).word)"
   ]
  },
  {
   "cell_type": "markdown",
   "metadata": {},
   "source": [
    "#### Задание \n",
    "С помощью pymorphy на тексте получить:\n",
    "- Распределение по частям речи\n",
    "- Для части речи вывести топ n лексем"
   ]
  },
  {
   "cell_type": "code",
   "execution_count": 133,
   "metadata": {},
   "outputs": [],
   "source": [
    "def get_pos_distribution(tokens, lexemas=None):\n",
    "    '''\n",
    "    :param: tokens: input text in russian\n",
    "    :param: lexemas: list of interested pos, if None - all are interesting \n",
    "    :return: dict of pos - probability\n",
    "    \n",
    "    Maybe here it is possible not to count, but count probs\n",
    "    '''\n",
    "    counter = dict()\n",
    "    pymorphy_results = map(lambda x: morph.parse(x), tokens)\n",
    "    total_score = 0\n",
    "    \n",
    "    for word_result in pymorphy_results:\n",
    "        for result in word_result:\n",
    "            score = result.score\n",
    "            total_score += score\n",
    "            counter[str(result.tag.POS)] = counter.get(str(result.tag.POS), 0) + score\n",
    "          \n",
    "    result = dict()\n",
    "        \n",
    "    for key, value in counter.items():\n",
    "        result[key] = (1.0 * value) / total_score\n",
    "    \n",
    "    return result\n",
    "    \n",
    "\n",
    "def get_top_pos_words(tokens, pos, n):\n",
    "    '''\n",
    "    :param tokens: input text in russian\n",
    "    :param pos: part of speech \n",
    "    :param n: number of most common words\n",
    "    :return: list of most common lexemas with selected pos\n",
    "    '''\n",
    "    \n",
    "    # counter contains objects like (lexema, score)\n",
    "    # if lemma appears in text more than once, then score sums\n",
    "    # There are a lot of ways to assign score to word or lexema\n",
    "    # as for example for each word we can take only most probable\n",
    "    # lemma, and count 1\n",
    "    # on the other hand we can say that if there is a distribution\n",
    "    # of lexemas there is prob to choose some word, then we can score it\n",
    "    counter = dict()\n",
    "    \n",
    "    pymorphy_results = map(lambda x: morph.parse(x), tokens)\n",
    "    \n",
    "    for word_result in pymorphy_results:\n",
    "        for result in word_result:\n",
    "            if pos in result.tag:\n",
    "                counter[result.normal_form] = counter.get(result.normal_form, 0) + result.score\n",
    "                \n",
    "    counter_list = [(lemma, score) for lemma, score in counter.items()]\n",
    "    return sorted(counter_list, reverse=True, key=lambda x: x[1])[:n]"
   ]
  },
  {
   "cell_type": "code",
   "execution_count": 137,
   "metadata": {},
   "outputs": [],
   "source": [
    "from nltk.tokenize import TweetTokenizer\n",
    "\n",
    "sample_tokens = TweetTokenizer().tokenize(sample_text)"
   ]
  },
  {
   "cell_type": "code",
   "execution_count": 140,
   "metadata": {},
   "outputs": [
    {
     "data": {
      "text/plain": [
       "{'NOUN': 0.5868262195883333,\n",
       " 'ADJF': 0.0401984821270258,\n",
       " 'GRND': 0.000446622360870953,\n",
       " 'ADVB': 0.002622386013696776,\n",
       " 'ADJS': 0.021238911850659212,\n",
       " 'VERB': 0.22388575327778834,\n",
       " 'CONJ': 0.12470899970899962,\n",
       " 'INTJ': 5.450005450005447e-05,\n",
       " 'PRCL': 1.8125018125018115e-05}"
      ]
     },
     "execution_count": 140,
     "metadata": {},
     "output_type": "execute_result"
    }
   ],
   "source": [
    "get_pos_distribution(sample_text.split())"
   ]
  },
  {
   "cell_type": "code",
   "execution_count": 141,
   "metadata": {},
   "outputs": [
    {
     "data": {
      "text/plain": [
       "[('ку́здра', 1.0000000000000002),\n",
       " ('бокрёнок', 0.9999999999999999),\n",
       " ('ште́ко', 0.95940347970174),\n",
       " ('гло́кай', 0.6666847119965352),\n",
       " ('бо́кр', 0.4444444444444445),\n",
       " ('бо́кра', 0.4444444444444445),\n",
       " ('будлану́л', 0.11235955056179775),\n",
       " ('курдя́чит', 0.04411764705882353),\n",
       " ('гло́кий', 0.021410783889129488)]"
      ]
     },
     "execution_count": 141,
     "metadata": {},
     "output_type": "execute_result"
    }
   ],
   "source": [
    "get_top_pos_words(sample_text.split(), \"NOUN\", -1)"
   ]
  },
  {
   "cell_type": "code",
   "execution_count": 91,
   "metadata": {},
   "outputs": [],
   "source": [
    "text = \"\"\"\n",
    "Художественный стиль – это особый стиль речи, который получил широкое распространение как в мировой художественной литературе в целом, так и в копирайтинге в частности. Он характеризуется высокой эмоциональностью, прямой речью, богатством красок, эпитетов и метафор, а также призван воздействовать на воображение читателя и выступает в роли спускового крючка для его фантазии. Итак, сегодня мы подробно и на наглядных примерах рассматриваем художественный стиль текстов и его применение в копирайтинге.\n",
    "Особенности художественного стиля\n",
    "\n",
    "Как уже было сказано выше, художественный стиль наиболее часто используется в художественной литературе: романах, новеллах, рассказах, повестях и прочих литературных жанрах. Этому стилю не присущи оценочные суждения, сухость и официальность, которые свойственны научному и официально-деловому стилям. Вместо этого для него характеры повествование и передача мельчайших деталей, чтобы сформировать в воображении читателя филигранную форму передаваемой мысли.\n",
    "\n",
    "В контексте копирайтинга художественный стиль нашел новое воплощение в гипнотических текстах, которым на этом блоге посвящен целый раздел «Гипнотический копирайтинг». Именно элементы художественного стиля позволяют текстам воздействовать на лимбическую систему головного мозга читателя и запускать необходимые автору механизмы, благодаря которым достигается порой весьма любопытный эффект. Например, читатель не может оторваться от романа или у него возникает сексуальное влечение, а также другие реакции, о которых мы еще будем вести речь в последующих статьях.\n",
    "Элементы художественного стиля\n",
    "\n",
    "В любом художественном тексте присутствуют элементы, которые характерны для стиля его изложения. Для художественного стиля наиболее характерны:\n",
    "\"\"\""
   ]
  },
  {
   "cell_type": "code",
   "execution_count": 143,
   "metadata": {},
   "outputs": [
    {
     "data": {
      "text/plain": [
       "{'ADJF': 0.17302737760940082,\n",
       " 'NOUN': 0.3089927448997188,\n",
       " 'None': 0.138889061397921,\n",
       " 'PRCL': 0.01792835956974813,\n",
       " 'NPRO': 0.0397040413784322,\n",
       " 'VERB': 0.05392297835142398,\n",
       " 'CONJ': 0.0799337024573365,\n",
       " 'ADVB': 0.03187930282363131,\n",
       " 'PREP': 0.09965978251393587,\n",
       " 'INTJ': 9.53969438858863e-05,\n",
       " 'PRTS': 0.010361564457022484,\n",
       " 'ADJS': 0.018601209611819807,\n",
       " 'INFN': 0.02354500146660888,\n",
       " 'GRND': 3.630956890831364e-05,\n",
       " 'COMP': 0.0014390375016616538,\n",
       " 'PRTF': 0.0019841294485417288}"
      ]
     },
     "execution_count": 143,
     "metadata": {},
     "output_type": "execute_result"
    }
   ],
   "source": [
    "get_pos_distribution(TweetTokenizer().tokenize(text))"
   ]
  },
  {
   "cell_type": "code",
   "execution_count": 144,
   "metadata": {},
   "outputs": [],
   "source": [
    "import matplotlib.pyplot as plt\n",
    "\n",
    "def plot_distribution(counts, **kwargs):\n",
    "    \"\"\"\n",
    "    :param counts: dict of pairs word, score\n",
    "    :return ax: pyplot.axes object\n",
    "    \"\"\"\n",
    "    fig, ax = plt.subplots(nrows=1, ncols=1, **kwargs)\n",
    "\n",
    "    scores_list = list(counts.items())    \n",
    "    scores_list = sorted(scores_list, reverse=True, key=lambda x: x[1])\n",
    "    words, scores = list(zip(*scores_list))\n",
    "    \n",
    "    ax.bar(list(range(len(scores))), scores)    \n",
    "    \n",
    "    print(words)\n",
    "    ax.set_xticks(list(range(len(words))))\n",
    "    ax.set_xticklabels(words, rotation=\"vertical\")\n",
    "    \n",
    "    return ax"
   ]
  },
  {
   "cell_type": "code",
   "execution_count": 145,
   "metadata": {},
   "outputs": [
    {
     "name": "stdout",
     "output_type": "stream",
     "text": [
      "('None', 'NOUN', 'PREP', 'CONJ', 'ADJF', 'ADVB', 'NPRO', 'PRCL', 'INTJ', 'VERB')\n"
     ]
    },
    {
     "data": {
      "text/plain": [
       "<matplotlib.axes._subplots.AxesSubplot at 0x7ff40fb11c50>"
      ]
     },
     "execution_count": 145,
     "metadata": {},
     "output_type": "execute_result"
    },
    {
     "data": {
      "image/png": "[encoded data removed]",
      "text/plain": [
       "<Figure size 432x288 with 1 Axes>"
      ]
     },
     "metadata": {
      "needs_background": "light"
     },
     "output_type": "display_data"
    }
   ],
   "source": [
    "plot_distribution(get_pos_distribution(text))"
   ]
  }
 ],
 "metadata": {
  "kernelspec": {
   "display_name": "ml_general",
   "language": "python",
   "name": "ml_general"
  },
  "language_info": {
   "codemirror_mode": {
    "name": "ipython",
    "version": 3
   },
   "file_extension": ".py",
   "mimetype": "text/x-python",
   "name": "python",
   "nbconvert_exporter": "python",
   "pygments_lexer": "ipython3",
   "version": "3.6.8"
  }
 },
 "nbformat": 4,
 "nbformat_minor": 2
}
